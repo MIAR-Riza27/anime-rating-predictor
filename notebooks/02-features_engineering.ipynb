{
 "cells": [
  {
   "cell_type": "markdown",
   "id": "c97fa893",
   "metadata": {},
   "source": [
    "---\n",
    "# 02 - Feature Engineering"
   ]
  },
  {
   "cell_type": "code",
   "execution_count": 1,
   "id": "d8fd9d93",
   "metadata": {},
   "outputs": [],
   "source": [
    "# Import necessary libraries\n",
    "import pandas as pd\n",
    "import joblib"
   ]
  },
  {
   "cell_type": "code",
   "execution_count": 2,
   "id": "7d767f4d",
   "metadata": {},
   "outputs": [],
   "source": [
    "# Load cleaned data\n",
    "df = pd.read_csv(\"../data/processed/clean_anime_full.csv\")\n",
    "df = df.drop(columns=[\"title\", \"favorites\", \"has_year\", \"has_season\"])"
   ]
  },
  {
   "cell_type": "code",
   "execution_count": 3,
   "id": "1997ce7c",
   "metadata": {},
   "outputs": [],
   "source": [
    "# Define categorical and numeric columns\n",
    "categorical_cols = [\"type\", \"source\", \"status\", \"rating\", \"season\", \"genres\", \"demographics\"]\n",
    "numeric_cols = df.drop(columns=categorical_cols + [\"score\"]).select_dtypes(include=[\"int64\", \"float64\"]).columns.tolist()\n"
   ]
  },
  {
   "cell_type": "code",
   "execution_count": 4,
   "id": "9aa67ddd",
   "metadata": {},
   "outputs": [
    {
     "data": {
      "text/plain": [
       "score         1.000000\n",
       "members       0.239580\n",
       "year          0.234040\n",
       "scored_by     0.210936\n",
       "episodes     -0.065559\n",
       "rank         -0.135660\n",
       "popularity   -0.770455\n",
       "Name: score, dtype: float64"
      ]
     },
     "execution_count": 4,
     "metadata": {},
     "output_type": "execute_result"
    }
   ],
   "source": [
    "# Check for missing values\n",
    "correlations = df[numeric_cols + [\"score\"]].corr()\n",
    "correlations[\"score\"].sort_values(ascending=False)"
   ]
  },
  {
   "cell_type": "code",
   "execution_count": 5,
   "id": "72d1cea8",
   "metadata": {},
   "outputs": [],
   "source": [
    "# Split features and target variable\n",
    "X = df.drop(columns=[\"score\"])\n",
    "y = df[\"score\"]"
   ]
  },
  {
   "cell_type": "code",
   "execution_count": 6,
   "id": "37ed6300",
   "metadata": {},
   "outputs": [
    {
     "data": {
      "text/plain": [
       "['../data/interim/categorical_cols.pkl']"
      ]
     },
     "execution_count": 6,
     "metadata": {},
     "output_type": "execute_result"
    }
   ],
   "source": [
    "# Save the processed data\n",
    "joblib.dump(X, \"../data/interim/X.pkl\")\n",
    "joblib.dump(y, \"../data/interim/y.pkl\")\n",
    "\n",
    "joblib.dump(numeric_cols, \"../data/interim/numeric_cols.pkl\")\n",
    "joblib.dump(categorical_cols, \"../data/interim/categorical_cols.pkl\")"
   ]
  }
 ],
 "metadata": {
  "kernelspec": {
   "display_name": ".venv",
   "language": "python",
   "name": "python3"
  },
  "language_info": {
   "codemirror_mode": {
    "name": "ipython",
    "version": 3
   },
   "file_extension": ".py",
   "mimetype": "text/x-python",
   "name": "python",
   "nbconvert_exporter": "python",
   "pygments_lexer": "ipython3",
   "version": "3.12.10"
  }
 },
 "nbformat": 4,
 "nbformat_minor": 5
}
