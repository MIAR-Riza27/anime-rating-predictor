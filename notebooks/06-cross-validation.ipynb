{
 "cells": [
  {
   "cell_type": "markdown",
   "id": "421856c0",
   "metadata": {},
   "source": [
    "---\n",
    "# 06 - Cross Validation"
   ]
  },
  {
   "cell_type": "code",
   "execution_count": 4,
   "id": "a18c4263",
   "metadata": {},
   "outputs": [],
   "source": [
    "# Import necessary libraries\n",
    "import joblib\n",
    "\n",
    "from sklearn.model_selection import KFold, cross_val_score"
   ]
  },
  {
   "cell_type": "code",
   "execution_count": 5,
   "id": "5f3ab827",
   "metadata": {},
   "outputs": [],
   "source": [
    "# Load the no-leakage dataset and columns\n",
    "X_nl, y = joblib.load(\"../data/interim/Xy_nl.pkl\")\n",
    "X_train_nl, X_test_nl, y_train_nl, y_test_nl = joblib.load(\"../data/interim/nl_split.pkl\")\n",
    "\n",
    "# Load the best model\n",
    "best_model = joblib.load(\"../models/best_model_rf_nl.pkl\")"
   ]
  },
  {
   "cell_type": "code",
   "execution_count": 6,
   "id": "8148a472",
   "metadata": {},
   "outputs": [
    {
     "name": "stdout",
     "output_type": "stream",
     "text": [
      "=== Cross-Validation After Tuning (Best Model) ===\n",
      "Scores: [0.97898532 0.98161932 0.98378943 0.98263061 0.97654385]\n",
      "Mean  : 0.9807\n",
      "Std   : 0.0026\n"
     ]
    }
   ],
   "source": [
    "# Perform cross-validation on the best model\n",
    "cv = KFold(n_splits=5, shuffle=True, random_state=42)\n",
    "cv_scores_best = cross_val_score(best_model, X_nl, y, cv=cv, scoring=\"r2\")\n",
    "\n",
    "print(\"=== Cross-Validation After Tuning (Best Model) ===\")\n",
    "print(f\"Scores: {cv_scores_best}\")\n",
    "print(f\"Mean  : {cv_scores_best.mean():.4f}\")\n",
    "print(f\"Std   : {cv_scores_best.std():.4f}\")"
   ]
  },
  {
   "cell_type": "code",
   "execution_count": 7,
   "id": "b351a61b",
   "metadata": {},
   "outputs": [
    {
     "data": {
      "text/plain": [
       "['../models/final_model.pkl']"
      ]
     },
     "execution_count": 7,
     "metadata": {},
     "output_type": "execute_result"
    }
   ],
   "source": [
    "# Save cross-vallidation scores\n",
    "joblib.dump(cv_scores_best, \"../models/cv_scores_rf_nl.pkl\")\n",
    "\n",
    "# Save again with general name for deployment/final version (optional)\n",
    "joblib.dump(best_model, \"../models/final_model.pkl\")"
   ]
  }
 ],
 "metadata": {
  "kernelspec": {
   "display_name": ".venv",
   "language": "python",
   "name": "python3"
  },
  "language_info": {
   "codemirror_mode": {
    "name": "ipython",
    "version": 3
   },
   "file_extension": ".py",
   "mimetype": "text/x-python",
   "name": "python",
   "nbconvert_exporter": "python",
   "pygments_lexer": "ipython3",
   "version": "3.12.10"
  }
 },
 "nbformat": 4,
 "nbformat_minor": 5
}
