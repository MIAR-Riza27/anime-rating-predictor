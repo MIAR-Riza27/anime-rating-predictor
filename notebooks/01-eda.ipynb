{
 "cells": [
  {
   "cell_type": "markdown",
   "id": "6de9e9eb",
   "metadata": {},
   "source": [
    "---\n",
    "# Anime Rating Full Dataset - Exploratory Data Analysis\n",
    "This notebook contains an exploratory data analysis (EDA) of the complete top anime dataset fetched from the Jikan API. The goal is to understand the structure, patterns, and distribution of the data before modeling."
   ]
  },
  {
   "cell_type": "code",
   "execution_count": null,
   "id": "64e146d8",
   "metadata": {},
   "outputs": [],
   "source": [
    "# Standard library imports\n",
    "import json\n",
    "\n",
    "# Third-party imports\n",
    "import pandas as pd\n",
    "import matplotlib.pyplot as plt\n",
    "import seaborn as sns\n",
    "from collections import Counter\n",
    "\n",
    "# Import the current working directory\n",
    "import sys\n",
    "from pathlib import Path\n",
    "\n",
    "# Add the parent directory of 'src' to sys.path\n",
    "sys.path.append(str(Path().resolve().parent))\n",
    "\n",
    "# Local application imports\n",
    "from src.preprocessing import (\n",
    "    fill_missing_values,\n",
    "    convert_types,\n",
    "    clean_string_columns,\n",
    "    convert_list_columns,\n",
    "    add_missing_indicators,\n",
    "    drop_duplicates_by_title,\n",
    "    filter_impossible_scores,\n",
    "    reorder_columns\n",
    ")"
   ]
  },
  {
   "cell_type": "code",
   "execution_count": null,
   "id": "f8f8d2bc",
   "metadata": {},
   "outputs": [],
   "source": [
    "# Plot style\n",
    "sns.set(style=\"whitegrid\")\n",
    "plt.rcParams[\"figure.figsize\"] = (10, 6)"
   ]
  },
  {
   "cell_type": "markdown",
   "id": "e53a7ac0",
   "metadata": {},
   "source": [
    "---\n",
    "## 1. Data Loading\n",
    "We load the raw `top_anime_all.json` dataset which contains over 29,000 anime records. The data is prepared to be processed in the next steps."
   ]
  },
  {
   "cell_type": "code",
   "execution_count": null,
   "id": "591612a3",
   "metadata": {},
   "outputs": [],
   "source": [
    "# Import display function for Jupyter Notebook\n",
    "from IPython.display import display\n",
    "from pathlib import Path\n",
    "\n",
    "# Load `top_anime_all.json` from `data/raw`\n",
    "data_path = Path(\"../data/raw/top_anime_all.json\")\n",
    "with data_path.open(encoding=\"utf-8\") as f:\n",
    "    anime_data = json.load(f)\n",
    "\n",
    "# Convert list of dict to DataFrame\n",
    "df = pd.json_normalize(anime_data)\n",
    "\n",
    "# Show basic info and preview\n",
    "df.info()\n",
    "display(df.head())"
   ]
  },
  {
   "cell_type": "markdown",
   "id": "99c2d024",
   "metadata": {},
   "source": [
    "---\n",
    "## 2. Data Overview\n",
    "We start by checking the shape of the dataset, previewing the top rows, and reviewing basic statistics."
   ]
  },
  {
   "cell_type": "code",
   "execution_count": null,
   "id": "8d85a5c4",
   "metadata": {},
   "outputs": [],
   "source": [
    "# Summary statistics for numeric columns\n",
    "df.describe()"
   ]
  },
  {
   "cell_type": "code",
   "execution_count": null,
   "id": "ce332a0c",
   "metadata": {},
   "outputs": [],
   "source": [
    "# Check missing values\n",
    "df.isna().sum().sort_values(ascending=False)"
   ]
  },
  {
   "cell_type": "code",
   "execution_count": null,
   "id": "5a7fe568",
   "metadata": {},
   "outputs": [],
   "source": [
    "# Plot distribution of anime scores\n",
    "sns.histplot(data=df.dropna(), x=\"score\", bins=20, kde=True)\n",
    "plt.title(\"Distribution of Anime Scores\")\n",
    "plt.xlabel(\"Score\")\n",
    "plt.ylabel(\"Count\")\n",
    "plt.show()"
   ]
  },
  {
   "cell_type": "markdown",
   "id": "c489acae",
   "metadata": {},
   "source": [
    "---\n",
    "## 3. Data Cleaning Process\n",
    "\n",
    "Before summarizing the cleaned data, we applied several preprocessing steps to prepare the dataset for analysis and modeling:\n",
    "\n",
    "- **Missing Values Handling**: Filled missing values with standard placeholders (e.g., `-1` for year, `\"Unknown\"` for rating).\n",
    "- **Type Conversion**: Converted numeric columns (e.g., `episodes`, `year`, `rank`) to integers.\n",
    "- **String Cleaning**: Standardized string columns by trimming and capitalizing text.\n",
    "- **List Column Conversion**: Converted nested lists (e.g., genres and demographics) to comma-separated strings.\n",
    "- **Indicator Columns**: Added `has_year` and `has_season` columns to mark original presence of these values.\n",
    "- **Duplicate Removal**: Dropped duplicate anime titles to ensure uniqueness.\n",
    "- **Invalid Score Filtering**: Removed anime entries with scores outside the 0–10 range (except for missing `-1` placeholders).\n",
    "- **Column Reordering**: Ensured consistent column order for better readability.\n",
    "\n",
    "All cleaning steps were modularized and handled in `src/preprocessing.py` for reuse and clarity."
   ]
  },
  {
   "cell_type": "code",
   "execution_count": null,
   "id": "f7a1ede3",
   "metadata": {},
   "outputs": [],
   "source": [
    "# Select relevant columns only\n",
    "columns_to_keep = [\n",
    "    \"title\", \"type\", \"source\", \"episodes\", \"status\", \"rating\",\n",
    "    \"score\", \"scored_by\", \"rank\", \"popularity\", \"members\", \"favorites\",\n",
    "    \"year\", \"season\", \"genres\", \"demographics\"\n",
    "]\n",
    "df_selected = df[columns_to_keep]\n",
    "\n",
    "# Preprocessing pipeline using functions from preprocessing.py\n",
    "df_selected = add_missing_indicators(df_selected)\n",
    "df_selected = fill_missing_values(df_selected)\n",
    "df_selected = convert_types(df_selected)\n",
    "df_selected = clean_string_columns(df_selected)\n",
    "df_selected = convert_list_columns(df_selected)\n",
    "df_selected = drop_duplicates_by_title(df_selected)\n",
    "df_selected = filter_impossible_scores(df_selected)\n",
    "\n",
    "# Reorder columns if needed\n",
    "desired_order = [\n",
    "    \"title\", \"type\", \"source\", \"episodes\", \"status\", \"rating\",\n",
    "    \"score\", \"scored_by\", \"rank\", \"popularity\", \"members\", \"favorites\",\n",
    "    \"year\", \"season\", \"has_year\", \"has_season\", \"genres\", \"demographics\"\n",
    "]\n",
    "df_selected = reorder_columns(df_selected, desired_order)\n",
    "\n",
    "# Final check and save\n",
    "display(df_selected.head())\n",
    "df_selected.info()\n",
    "df_selected.to_csv(\"../data/processed/clean_anime_full.csv\", index=False)"
   ]
  },
  {
   "cell_type": "markdown",
   "id": "d7977fa6",
   "metadata": {},
   "source": [
    "---\n",
    "## 4. Data Cleaning Recap\n",
    "This section summarizes the preprocessing steps applied on the raw dataset, such as:\n",
    "\n",
    "- Handling missing values (e.g., year, season, score)\n",
    "- Converting data types (e.g., episodes to int)\n",
    "- Transforming list-type columns into comma-separated strings\n",
    "- Adding flags for missing year/season\n",
    "\n",
    "These were handled in `src/preprocessing.py`.\n",
    "\n",
    "---\n",
    "## 5. Missing Value Summary\n",
    "Below is the summary of remaining missing values, if any, after preprocessing."
   ]
  },
  {
   "cell_type": "code",
   "execution_count": null,
   "id": "2d9bccee",
   "metadata": {},
   "outputs": [],
   "source": [
    "# Display missing values in descending order\n",
    "df_selected.isna().sum().sort_values(ascending=False)"
   ]
  },
  {
   "cell_type": "markdown",
   "id": "c537f2ae",
   "metadata": {},
   "source": [
    "Most of the missing values were successfully handled during the preprocessing stage.  \n",
    "Features such as `year`, `season`, and `score` were filled with placeholders or cleaned.  \n",
    "The final dataset is now ready for further analysis or modeling.\n",
    "\n",
    "---\n",
    "## 6. Duplicate Check\n",
    "We check for any duplicate entries based on the anime titles."
   ]
  },
  {
   "cell_type": "code",
   "execution_count": null,
   "id": "ffa002fd",
   "metadata": {},
   "outputs": [],
   "source": [
    "# Check for duplicates by title\n",
    "duplicates = df_selected.duplicated(subset=[\"title\"])\n",
    "print(\"Total duplicates:\", duplicates.sum())\n",
    "\n",
    "# Optionally display duplicates (if any)\n",
    "df_selected[duplicates]"
   ]
  },
  {
   "cell_type": "markdown",
   "id": "45e149ca",
   "metadata": {},
   "source": [
    "No duplicate titles found. The dataset contains unique anime entries.\n",
    "\n",
    "---\n",
    "## 7. Feature Description\n",
    "\n",
    "Below is a brief explanation of each column included in the final cleaned dataset:\n",
    "\n",
    "| Feature        | Description |\n",
    "|----------------|-------------|\n",
    "| `title`        | Title of the anime. |\n",
    "| `type`         | Type of media (e.g., TV, Movie, OVA). |\n",
    "| `source`       | Original source material (e.g., Manga, Novel, Original). |\n",
    "| `episodes`     | Total number of episodes. |\n",
    "| `status`       | Airing status (e.g., Finished Airing, Currently Airing). |\n",
    "| `rating`       | Age rating classification (e.g., PG-13, R). |\n",
    "| `score`        | Average user score from MyAnimeList (range: 0–10). |\n",
    "| `scored_by`    | Number of users who rated the anime. |\n",
    "| `rank`         | Overall rank based on score. |\n",
    "| `popularity`   | Popularity rank based on number of members. |\n",
    "| `members`      | Number of users who added the anime to their list. |\n",
    "| `favorites`    | Number of users who marked the anime as a favorite. |\n",
    "| `year`         | Release year of the anime. |\n",
    "| `season`       | Season of release (e.g., Spring, Fall). |\n",
    "| `has_year`     | Binary indicator (1 if original `year` was present, 0 if filled). |\n",
    "| `has_season`   | Binary indicator (1 if original `season` was present, 0 if filled). |\n",
    "| `genres`       | List of genres the anime belongs to (as a comma-separated string). |\n",
    "| `demographics` | Target demographic groups (e.g., Shounen, Seinen). |\n",
    "\n",
    "---\n",
    "## 8. Visual Explorations\n",
    "In the next section, we will explore the dataset using various visualizations to uncover trends, relationships, and patterns.\n",
    "\n",
    "---\n",
    "### a. Distribution of Anime Scores (Excluding Placeholder `-1`)"
   ]
  },
  {
   "cell_type": "code",
   "execution_count": null,
   "id": "01d45ffa",
   "metadata": {},
   "outputs": [],
   "source": [
    "# Plot distribution of anime scores without zero scores\n",
    "sns.histplot(data=df_selected[df_selected[\"score\"] > 0], x=\"score\", bins=30, kde=True)\n",
    "plt.title(\"Distribution of Anime Scores\")\n",
    "plt.xlabel(\"Score\")\n",
    "plt.ylabel(\"Frequency\")\n",
    "plt.show()"
   ]
  },
  {
   "cell_type": "markdown",
   "id": "4b75f48a",
   "metadata": {},
   "source": [
    "- Distribution is approximately **bell-shaped**, centered between **5.5 to 7.5**.\n",
    "- Few anime are rated **below 4** or **above 8.5**.\n",
    "\n",
    "> **Insight:** Ratings cluster around average-to-good range, suggesting consistent production quality or rating bias toward middle values.\n",
    "\n",
    "---\n",
    "### b. Top 15 Most Common Genres"
   ]
  },
  {
   "cell_type": "code",
   "execution_count": null,
   "id": "75df8e49",
   "metadata": {},
   "outputs": [],
   "source": [
    "# Plot top 15 genres in anime\n",
    "genre_series = df_selected[\"genres\"].str.split(\", \")\n",
    "genre_counts = Counter([genre for sublist in genre_series for genre in sublist if genre])\n",
    "top_genres = pd.DataFrame(genre_counts.most_common(15), columns=[\"Genre\", \"Count\"])\n",
    "\n",
    "# Plotting the top genres\n",
    "sns.barplot(data=top_genres, y=\"Genre\", x=\"Count\")\n",
    "plt.title(\"Top 15 Genres in Anime\")\n",
    "plt.xlabel(\"Count\")\n",
    "plt.ylabel(\"Genre\")\n",
    "plt.show()"
   ]
  },
  {
   "cell_type": "markdown",
   "id": "e286e944",
   "metadata": {},
   "source": [
    "- **Comedy**, **Fantasy**, **Action**, and **Adventure** dominate the genre list.\n",
    "- **Horror**, **Sports**, and **Ecchi** appear less frequently.\n",
    "\n",
    "> **Insight:** Most anime cater to entertaining, imaginative themes, while niche genres are less prevalent.\n",
    "\n",
    "---\n",
    "### c. Relationship: Score vs Number of Members\n"
   ]
  },
  {
   "cell_type": "code",
   "execution_count": null,
   "id": "325a77b8",
   "metadata": {},
   "outputs": [],
   "source": [
    "# Plot score vs number of members\n",
    "sns.scatterplot(data=df_selected, x=\"members\", y=\"score\", alpha=0.5)\n",
    "plt.title(\"Score vs Number of Members\")\n",
    "plt.xlabel(\"Members\")\n",
    "plt.ylabel(\"Score\")\n",
    "plt.xscale(\"log\")\n",
    "plt.show()"
   ]
  },
  {
   "cell_type": "markdown",
   "id": "835d9156",
   "metadata": {},
   "source": [
    "- Anime with more members tend to have **higher scores**.\n",
    "- A dense concentration appears around **6–7 scores** with **10³–10⁵ members**.\n",
    "- A few with low members have very low scores (possibly obscure titles).\n",
    "\n",
    "> **Insight:** Popularity and ratings are correlated; well-known anime are generally rated higher.\n",
    "\n",
    "---\n",
    "### d. Anime Releases per Year"
   ]
  },
  {
   "cell_type": "code",
   "execution_count": null,
   "id": "e44fd204",
   "metadata": {},
   "outputs": [],
   "source": [
    "sns.countplot(data=df_selected[df_selected[\"year\"] > 0], x=\"year\")\n",
    "plt.title(\"Anime Released per Year\")\n",
    "plt.xticks(rotation=90)\n",
    "plt.xlabel(\"Year\")\n",
    "plt.ylabel(\"Number of Anime\")\n",
    "plt.show()"
   ]
  },
  {
   "cell_type": "markdown",
   "id": "639bdda6",
   "metadata": {},
   "source": [
    "- Strong growth since 2000s, peaking around **2016–2018**.\n",
    "- Drop after 2022 likely due to:\n",
    "  - Incomplete data for recent years,\n",
    "  - Effects of the COVID-19 pandemic.\n",
    "\n",
    "> **Insight:** Anime production exploded in the last two decades, though recent trends may suggest stagnation or recovery lag.\n",
    "\n",
    "---\n",
    "### e. Score Distribution by Season"
   ]
  },
  {
   "cell_type": "code",
   "execution_count": null,
   "id": "62dca714",
   "metadata": {},
   "outputs": [],
   "source": [
    "# Plot score distribution by season\n",
    "sns.boxplot(data=df_selected[df_selected[\"season\"] != \"Unknown\"], x=\"season\", y=\"score\")\n",
    "plt.title(\"Score Distribution by Season\")\n",
    "plt.xlabel(\"Season\")\n",
    "plt.ylabel(\"Score\")\n",
    "plt.show()\n"
   ]
  },
  {
   "cell_type": "markdown",
   "id": "7485c2df",
   "metadata": {},
   "source": [
    "- Median scores are fairly stable across **Spring**, **Summer**, **Fall**, and **Winter**.\n",
    "- Slightly higher medians for **Fall and Spring** releases.\n",
    "- Outliers in all seasons hint at inconsistent or invalid entries.\n",
    "\n",
    "> **Insight:** Seasonal timing doesn't drastically impact ratings, though Fall and Spring are slightly more favorable.\n",
    "\n",
    "---\n",
    "### f. Correlation Between Numeric Features"
   ]
  },
  {
   "cell_type": "code",
   "execution_count": null,
   "id": "5d1e8042",
   "metadata": {},
   "outputs": [],
   "source": [
    "# Plot correlation heatmap for numerical columns\n",
    "numerical_cols = df_selected.select_dtypes(include=['float64', 'int64']).columns\n",
    "plt.figure(figsize=(10, 8))\n",
    "sns.heatmap(df_selected[numerical_cols].corr(), annot=True, cmap='coolwarm', fmt=\".2f\")\n",
    "plt.title(\"Correlation Heatmap\")\n",
    "plt.show()"
   ]
  },
  {
   "cell_type": "markdown",
   "id": "7d63959e",
   "metadata": {},
   "source": [
    "- **Strong correlations**:\n",
    "  - `scored_by` ↔ `members`: **0.99**\n",
    "  - `favorites` ↔ `members`: **0.77**\n",
    "  - `favorites` ↔ `scored_by`: **0.78**\n",
    "- **Negative correlation**:\n",
    "  - `score` ↔ `popularity`: **-0.77**\n",
    "- **Weak correlation**:\n",
    "  - `episodes` has little correlation with other metrics.\n",
    "\n",
    "> **Insight:** Rating count and favorites are good proxies for popularity. Episode count doesn't influence popularity or scores much.\n",
    "\n",
    "---\n",
    "### g. Score by Demographic"
   ]
  },
  {
   "cell_type": "code",
   "execution_count": null,
   "id": "0e0797af",
   "metadata": {},
   "outputs": [],
   "source": [
    "# Plot score distribution by demographics\n",
    "df_demo = df_selected.explode(\"demographics\")\n",
    "sns.boxplot(data=df_demo[df_demo['score'] > 0], x=\"demographics\", y=\"score\")\n",
    "plt.xticks(rotation=45)\n",
    "plt.title(\"Score Distribution by Demographics\")\n",
    "plt.show()"
   ]
  },
  {
   "cell_type": "markdown",
   "id": "38b50aa6",
   "metadata": {},
   "source": [
    "- **Higher median scores**: `Shounen`, `Seinen`, `Shoujo`, `Josei`\n",
    "- **Lower scores** with higher spread: `Kids`, `Kids, Shoujo`\n",
    "- Broader distribution in `Seinen` and `Shoujo` anime\n",
    "\n",
    "> **Insight:** Anime targeted at teens/adults tend to be rated higher, while children's content varies in quality.\n",
    "\n",
    "---\n",
    "### h. Members vs Favorites / Scored_by"
   ]
  },
  {
   "cell_type": "code",
   "execution_count": null,
   "id": "408a9dad",
   "metadata": {},
   "outputs": [],
   "source": [
    "# Plot favorites vs members\n",
    "sns.scatterplot(data=df_selected, x=\"members\", y=\"favorites\", alpha=0.5)\n",
    "plt.xscale(\"log\")\n",
    "plt.yscale(\"log\")\n",
    "plt.title(\"Favorites vs Members\")\n",
    "plt.show()"
   ]
  },
  {
   "cell_type": "markdown",
   "id": "f0b4a188",
   "metadata": {},
   "source": [
    "- Strong positive trends for both:\n",
    "  - More members → more favorites and more ratings.\n",
    "- Distribution follows a **power-law**:\n",
    "  - Few anime dominate in popularity,\n",
    "  - Most remain in long-tail with smaller followings.\n",
    "\n",
    "> **Insight:** Fandom is highly concentrated. A handful of anime capture the majority of attention.\n",
    "\n",
    "---\n",
    "## 9. Summary of Key Findings\n",
    "- Anime scores tend to follow a normal distribution centered around average quality.\n",
    "- Popular anime tend to be better rated and more favorited.\n",
    "- Genres like Comedy, Fantasy, and Action dominate the landscape.\n",
    "- Anime targeting older demographics receive higher ratings on average.\n",
    "- The anime industry has seen tremendous growth since the 2000s, with possible recent slowdowns.\n",
    "- Members, scored_by, and favorites are closely related, while episode count has little impact.\n",
    "\n",
    "---"
   ]
  }
 ],
 "metadata": {
  "kernelspec": {
   "display_name": ".venv",
   "language": "python",
   "name": "python3"
  },
  "language_info": {
   "codemirror_mode": {
    "name": "ipython",
    "version": 3
   },
   "file_extension": ".py",
   "mimetype": "text/x-python",
   "name": "python",
   "nbconvert_exporter": "python",
   "pygments_lexer": "ipython3",
   "version": "3.12.10"
  }
 },
 "nbformat": 4,
 "nbformat_minor": 5
}
