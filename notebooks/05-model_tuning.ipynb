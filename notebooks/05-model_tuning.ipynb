{
 "cells": [
  {
   "cell_type": "markdown",
   "id": "326ad114",
   "metadata": {},
   "source": [
    "---\n",
    "# 05 - Hyperparameter Tuning"
   ]
  },
  {
   "cell_type": "code",
   "execution_count": 6,
   "id": "649866e5",
   "metadata": {},
   "outputs": [],
   "source": [
    "# Import necessary libraries\n",
    "import joblib\n",
    "import numpy as np\n",
    "\n",
    "from sklearn.model_selection import GridSearchCV\n",
    "from sklearn.metrics import mean_absolute_error, mean_squared_error, r2_score"
   ]
  },
  {
   "cell_type": "code",
   "execution_count": 7,
   "id": "1331a958",
   "metadata": {},
   "outputs": [],
   "source": [
    "# Load the no-leakage dataset and columns\n",
    "X_nl, y = joblib.load(\"../data/interim/Xy_nl.pkl\")\n",
    "X_train_nl, X_test_nl, y_train_nl, y_test_nl = joblib.load(\"../data/interim/nl_split.pkl\")\n",
    "\n",
    "# Load numeric columns without 'scored_by'\n",
    "numeric_cols_nl = joblib.load(\"../data/interim/numeric_cols_nl.pkl\")\n",
    "\n",
    "# Load no-leakage pipeline\n",
    "pipeline_rf_nl = joblib.load(\"../models/pipeline_rf_nl.pkl\")"
   ]
  },
  {
   "cell_type": "code",
   "execution_count": 8,
   "id": "a14a235b",
   "metadata": {},
   "outputs": [],
   "source": [
    "# Parameter Grid\n",
    "param_grid = {\n",
    "    \"regressor__n_estimators\": [50, 100, 200],\n",
    "    \"regressor__max_depth\": [10, 20, None],\n",
    "    \"regressor__min_samples_split\": [2, 5],\n",
    "}\n",
    "\n",
    "grid_search = GridSearchCV(\n",
    "    pipeline_rf_nl,\n",
    "    param_grid,\n",
    "    cv=3,\n",
    "    scoring=\"r2\",\n",
    "    n_jobs=-1,\n",
    "    verbose=1\n",
    ")"
   ]
  },
  {
   "cell_type": "code",
   "execution_count": 9,
   "id": "40bbaba8",
   "metadata": {},
   "outputs": [
    {
     "name": "stdout",
     "output_type": "stream",
     "text": [
      "Fitting 3 folds for each of 18 candidates, totalling 54 fits\n",
      "Best parameters: {'regressor__max_depth': 10, 'regressor__min_samples_split': 5, 'regressor__n_estimators': 50}\n"
     ]
    }
   ],
   "source": [
    "# Fit the model\n",
    "grid_search.fit(X_train_nl, y_train_nl)\n",
    "best_model = grid_search.best_estimator_\n",
    "print(\"Best parameters:\", grid_search.best_params_)"
   ]
  },
  {
   "cell_type": "code",
   "execution_count": 10,
   "id": "e220ee42",
   "metadata": {},
   "outputs": [
    {
     "name": "stdout",
     "output_type": "stream",
     "text": [
      "Tuned RF (No scored_by) Evaluation\n",
      "MAE  : 0.1120\n",
      "RMSE : 0.5235\n",
      "R²   : 0.9789\n",
      "------------------------------\n"
     ]
    }
   ],
   "source": [
    "def evaluate_model(name, y_true, y_pred):\n",
    "    print(f\"{name} Evaluation\")\n",
    "    print(f\"MAE  : {mean_absolute_error(y_true, y_pred):.4f}\")\n",
    "    rmse = np.sqrt(mean_squared_error(y_true, y_pred))\n",
    "    print(f\"RMSE : {rmse:.4f}\")\n",
    "    print(f\"R²   : {r2_score(y_true, y_pred):.4f}\")\n",
    "    print(\"-\" * 30)\n",
    "\n",
    "# Evaluate best model\n",
    "y_pred_best = best_model.predict(X_test_nl)\n",
    "evaluate_model(\"Tuned RF (No scored_by)\", y_test_nl, y_pred_best)"
   ]
  },
  {
   "cell_type": "code",
   "execution_count": 11,
   "id": "4059ecc6",
   "metadata": {},
   "outputs": [
    {
     "data": {
      "text/plain": [
       "['../models/best_model_rf_nl_params.pkl']"
      ]
     },
     "execution_count": 11,
     "metadata": {},
     "output_type": "execute_result"
    }
   ],
   "source": [
    "# Save best model (no leakage, already tuned)\n",
    "joblib.dump(best_model, \"../models/best_model_rf_nl.pkl\")\n",
    "\n",
    "# Save best parameters (optional, helpful for documentation)\n",
    "joblib.dump(grid_search.best_params_, \"../models/best_model_rf_nl_params.pkl\")"
   ]
  }
 ],
 "metadata": {
  "kernelspec": {
   "display_name": ".venv",
   "language": "python",
   "name": "python3"
  },
  "language_info": {
   "codemirror_mode": {
    "name": "ipython",
    "version": 3
   },
   "file_extension": ".py",
   "mimetype": "text/x-python",
   "name": "python",
   "nbconvert_exporter": "python",
   "pygments_lexer": "ipython3",
   "version": "3.12.10"
  }
 },
 "nbformat": 4,
 "nbformat_minor": 5
}
