{
 "cells": [
  {
   "cell_type": "markdown",
   "id": "936f9d46",
   "metadata": {},
   "source": [
    "---\n",
    "# Predicting Anime Scores\n",
    "\n",
    "In this notebook, we will prepare features, split the data, train baseline regression models, and evaluate their performance."
   ]
  },
  {
   "cell_type": "code",
   "execution_count": null,
   "id": "6e1de442",
   "metadata": {},
   "outputs": [],
   "source": [
    "# Third-party imports\n",
    "import pandas as pd\n",
    "import numpy as np\n",
    "import matplotlib.pyplot as plt\n",
    "import joblib\n",
    "\n",
    "from sklearn.preprocessing import StandardScaler, OrdinalEncoder\n",
    "from sklearn.model_selection import train_test_split, GridSearchCV, KFold, cross_val_score\n",
    "from sklearn.pipeline import Pipeline\n",
    "from sklearn.compose import ColumnTransformer\n",
    "from sklearn.impute import SimpleImputer\n",
    "from sklearn.ensemble import RandomForestRegressor\n",
    "from sklearn.linear_model import LinearRegression\n",
    "from sklearn.metrics import mean_absolute_error, mean_squared_error, r2_score"
   ]
  },
  {
   "cell_type": "markdown",
   "id": "3e8e2247",
   "metadata": {},
   "source": [
    "---\n",
    "## 1. Load Cleaned Dataset"
   ]
  },
  {
   "cell_type": "code",
   "execution_count": null,
   "id": "9a850671",
   "metadata": {},
   "outputs": [],
   "source": [
    "# Load the processed dataset\n",
    "df = pd.read_csv(\"../data/processed/clean_anime_full.csv\")\n",
    "df.head()"
   ]
  },
  {
   "cell_type": "markdown",
   "id": "98b7559b",
   "metadata": {},
   "source": [
    "---\n",
    "## 2. Feature Engineering\n",
    "- Drop unused or redundant columns (title, favorites, etc.)\n",
    "- Encode categorical columns (type, source, etc.)\n",
    "- Scale numerical features."
   ]
  },
  {
   "cell_type": "code",
   "execution_count": null,
   "id": "f125fb71",
   "metadata": {},
   "outputs": [],
   "source": [
    "# Drop unused or redundant columns\n",
    "df = df.drop(columns=[\"title\", \"favorites\", \"has_year\", \"has_season\"])\n",
    "\n",
    "# Define categorical and numeric columns\n",
    "categorical_cols = [\"type\", \"source\", \"status\", \"rating\", \"season\", \"genres\", \"demographics\"]\n",
    "numeric_cols = df.drop(columns=categorical_cols + [\"score\"]).select_dtypes(include=[\"int64\", \"float64\"]).columns.tolist()"
   ]
  },
  {
   "cell_type": "code",
   "execution_count": null,
   "id": "ed9ca84f",
   "metadata": {},
   "outputs": [],
   "source": [
    "# Define features and target\n",
    "correlations = df[numeric_cols + [\"score\"]].corr()\n",
    "correlations[\"score\"].sort_values(ascending=False)"
   ]
  },
  {
   "cell_type": "code",
   "execution_count": null,
   "id": "1fc8d4b8",
   "metadata": {},
   "outputs": [],
   "source": [
    "# Define features and target\n",
    "X = df.drop(columns=[\"score\"])\n",
    "y = df[\"score\"]"
   ]
  },
  {
   "cell_type": "markdown",
   "id": "0f6f0888",
   "metadata": {},
   "source": [
    "---\n",
    "## 3. Train-Test Split\n",
    "We split the dataset into training and testing sets using an 80:20 ratio to evaluate model performance on unseen data."
   ]
  },
  {
   "cell_type": "code",
   "execution_count": null,
   "id": "aaff41f1",
   "metadata": {},
   "outputs": [],
   "source": [
    "# 80:20 split\n",
    "X_train, X_test, y_train, y_test = train_test_split(\n",
    "    X, y, test_size=0.2, random_state=42\n",
    ")"
   ]
  },
  {
   "cell_type": "markdown",
   "id": "32fbcbe3",
   "metadata": {},
   "source": [
    "---\n",
    "## 4. Train Baseline Models\n",
    "- Linear Regression\n",
    "- Random Forest"
   ]
  },
  {
   "cell_type": "code",
   "execution_count": null,
   "id": "8d460583",
   "metadata": {},
   "outputs": [],
   "source": [
    "# Preprocessing\n",
    "categorical_transformer = Pipeline(steps=[\n",
    "    (\"imputer\", SimpleImputer(strategy=\"most_frequent\")),\n",
    "    (\"encoder\", OrdinalEncoder(handle_unknown=\"use_encoded_value\", unknown_value=-1))\n",
    "])\n",
    "\n",
    "numeric_transformer = Pipeline(steps=[\n",
    "    (\"imputer\", SimpleImputer(strategy=\"mean\")),\n",
    "    (\"scaler\", StandardScaler())\n",
    "])\n",
    "\n",
    "preprocessor = ColumnTransformer(\n",
    "    transformers=[\n",
    "        (\"num\", numeric_transformer, numeric_cols),\n",
    "        (\"cat\", categorical_transformer, categorical_cols)\n",
    "    ]\n",
    ")\n",
    "\n",
    "# Pipelines\n",
    "pipeline_lr = Pipeline([\n",
    "    (\"preprocessor\", preprocessor),\n",
    "    (\"regressor\", LinearRegression())\n",
    "])\n",
    "\n",
    "pipeline_rf = Pipeline([\n",
    "    (\"preprocessor\", preprocessor),\n",
    "    (\"regressor\", RandomForestRegressor(random_state=42))\n",
    "])\n",
    "\n",
    "# Fit models\n",
    "pipeline_lr.fit(X_train, y_train)\n",
    "pipeline_rf.fit(X_train, y_train)"
   ]
  },
  {
   "cell_type": "markdown",
   "id": "b14ba1df",
   "metadata": {},
   "source": [
    "---\n",
    "## 5. Evaluate Models\n",
    "- Use MAE, RMSE, R²"
   ]
  },
  {
   "cell_type": "code",
   "execution_count": null,
   "id": "0f1e7426",
   "metadata": {},
   "outputs": [],
   "source": [
    "def evaluate_model(name, y_true, y_pred):\n",
    "    print(f\"{name} Evaluation\")\n",
    "    print(f\"MAE  : {mean_absolute_error(y_true, y_pred):.4f}\")\n",
    "    mse = mean_squared_error(y_true, y_pred)\n",
    "    rmse = np.sqrt(mse)\n",
    "    print(f\"RMSE : {rmse:.4f}\")\n",
    "    print(f\"R²   : {r2_score(y_true, y_pred):.4f}\")\n",
    "    print(\"-\" * 30)\n",
    "\n",
    "# Predictions\n",
    "y_pred_lr = pipeline_lr.predict(X_test)\n",
    "y_pred_rf = pipeline_rf.predict(X_test)\n",
    "\n",
    "# Evaluation\n",
    "evaluate_model(\"Linear Regression\", y_test, y_pred_lr)\n",
    "evaluate_model(\"Random Forest\", y_test, y_pred_rf)"
   ]
  },
  {
   "cell_type": "markdown",
   "id": "d6736b26",
   "metadata": {},
   "source": [
    "The Random Forest model is more complex and may overfit the training data.\n",
    "To check for overfitting, we can compare the training and testing performance.\n",
    "\n",
    "---\n",
    "## 7. Check for Overfitting in Random Forest Models\n",
    "- Compare training vs testing performance\n",
    "- Visualize predicted vs actual values"
   ]
  },
  {
   "cell_type": "code",
   "execution_count": null,
   "id": "36e6c367",
   "metadata": {},
   "outputs": [],
   "source": [
    "# Overfitting Check only for Random Forest\n",
    "# Predict on training set\n",
    "y_train_pred_rf = pipeline_rf.predict(X_train)\n",
    "\n",
    "# Training vs Testing R²\n",
    "train_r2 = r2_score(y_train, y_train_pred_rf)\n",
    "test_r2 = r2_score(y_test, y_pred_rf)\n",
    "\n",
    "print(\"=== R² Comparison ===\")\n",
    "print(f\"Training R²: {train_r2:.4f}\")\n",
    "print(f\"Testing R² : {test_r2:.4f}\")\n",
    "\n",
    "# RMSE comparison\n",
    "train_rmse = np.sqrt(mean_squared_error(y_train, y_train_pred_rf))\n",
    "test_rmse = np.sqrt(mean_squared_error(y_test, y_pred_rf))\n",
    "\n",
    "print(\"\\n=== RMSE Comparison ===\")\n",
    "print(f\"Training RMSE: {train_rmse:.4f}\")\n",
    "print(f\"Testing RMSE : {test_rmse:.4f}\")\n",
    "\n",
    "# Scatter Plot: Training Set Predictions vs Actual\n",
    "plt.figure(figsize=(6, 6))\n",
    "plt.scatter(y_train, y_train_pred_rf, alpha=0.5)\n",
    "plt.plot([y_train.min(), y_train.max()], [y_train.min(), y_train.max()], color='red', linestyle='--')\n",
    "plt.xlabel(\"Actual Score\")\n",
    "plt.ylabel(\"Predicted Score\")\n",
    "plt.title(\"Training Set: RF Predictions vs Actual\")\n",
    "plt.grid(True)\n",
    "plt.show()\n",
    "\n",
    "# Scatter Plot: Testing Set Predictions vs Actual\n",
    "plt.figure(figsize=(6, 6))\n",
    "plt.scatter(y_test, y_pred_rf, alpha=0.5)\n",
    "plt.plot([y_test.min(), y_test.max()], [y_test.min(), y_test.max()], color='red', linestyle='--')\n",
    "plt.xlabel(\"Actual Score\")\n",
    "plt.ylabel(\"Predicted Score\")\n",
    "plt.title(\"Testing Set: RF Predictions vs Actual\")\n",
    "plt.grid(True)\n",
    "plt.show()"
   ]
  },
  {
   "cell_type": "markdown",
   "id": "a252770c",
   "metadata": {},
   "source": [
    "---\n",
    "## 8. Feature Importance"
   ]
  },
  {
   "cell_type": "code",
   "execution_count": null,
   "id": "c0efebbf",
   "metadata": {},
   "outputs": [],
   "source": [
    "# Feature Importance\n",
    "rf_model = pipeline_rf.named_steps[\"regressor\"]\n",
    "\n",
    "# Get feature names after transformation\n",
    "cat_encoder = pipeline_rf.named_steps[\"preprocessor\"].named_transformers_[\"cat\"].named_steps[\"encoder\"]\n",
    "cat_feature_names = cat_encoder.get_feature_names_out(categorical_cols)\n",
    "feature_names = list(numeric_cols) + list(cat_feature_names)\n",
    "\n",
    "importances = rf_model.feature_importances_\n",
    "feat_importance = pd.Series(importances, index=feature_names)\n",
    "\n",
    "# Plot\n",
    "plt.figure(figsize=(8, 6))\n",
    "feat_importance.nlargest(10).plot(kind='barh')\n",
    "plt.title(\"Top 10 Feature Importances - Random Forest\")\n",
    "plt.xlabel(\"Importance Score\")\n",
    "plt.grid(True)\n",
    "plt.show()"
   ]
  },
  {
   "cell_type": "markdown",
   "id": "a8615d16",
   "metadata": {},
   "source": [
    "We know that the scored_by feature is highly correlated with the score.\n",
    "The is a possibility that the model is overfitting to this feature.\n",
    "We can check it by removing the scored_by feature and retraining the model."
   ]
  },
  {
   "cell_type": "code",
   "execution_count": null,
   "id": "90e3b482",
   "metadata": {},
   "outputs": [],
   "source": [
    "# Remove 'scored_by' column for no-leakage model\n",
    "numeric_cols_nl = [col for col in numeric_cols if col != \"scored_by\"]\n",
    "\n",
    "# Preprocessing for no-leakage model\n",
    "categorical_transformer_nl = Pipeline(steps=[\n",
    "    (\"imputer\", SimpleImputer(strategy=\"most_frequent\")),\n",
    "    (\"encoder\", OrdinalEncoder(handle_unknown=\"use_encoded_value\", unknown_value=-1))\n",
    "])\n",
    "\n",
    "numeric_transformer_nl = Pipeline(steps=[\n",
    "    (\"imputer\", SimpleImputer(strategy=\"mean\")),\n",
    "    (\"scaler\", StandardScaler())\n",
    "])\n",
    "\n",
    "preprocessor_nl = ColumnTransformer(\n",
    "    transformers=[\n",
    "        (\"num\", numeric_transformer_nl, numeric_cols_nl),\n",
    "        (\"cat\", categorical_transformer_nl, categorical_cols)\n",
    "    ]\n",
    ")\n",
    "\n",
    "# Pipelines for no-leakage model\n",
    "pipeline_rf_nl = Pipeline([\n",
    "    (\"preprocessor\", preprocessor_nl),\n",
    "    (\"regressor\", RandomForestRegressor(random_state=42))\n",
    "])\n",
    "# Fit no-leakage model\n",
    "X_noleak = X.drop(columns=[\"scored_by\"])\n",
    "X_train_nl, X_test_nl, y_train_nl, y_test_nl = train_test_split(X_noleak, y, test_size=0.2, random_state=42)\n",
    "\n",
    "pipeline_rf_nl.fit(X_train_nl, y_train_nl)\n",
    "y_pred_rf_nl = pipeline_rf_nl.predict(X_test_nl)\n",
    "\n",
    "# Evaluate no-leakage model\n",
    "print(\"=== No-Leakage Model Evaluation ===\")\n",
    "evaluate_model(\"Random Forest (No scored_by)\", y_test_nl, y_pred_rf_nl)"
   ]
  },
  {
   "cell_type": "code",
   "execution_count": null,
   "id": "680effe0",
   "metadata": {},
   "outputs": [],
   "source": [
    "# Grid Search for best Random Forest (no-leakage)\n",
    "param_grid = {\n",
    "    \"regressor__n_estimators\": [50, 100, 200],\n",
    "    \"regressor__max_depth\": [10, 20, None],\n",
    "    \"regressor__min_samples_split\": [2, 5],\n",
    "}\n",
    "\n",
    "grid_search = GridSearchCV(\n",
    "    pipeline_rf_nl, param_grid, cv=3, scoring=\"r2\", n_jobs=-1, verbose=1\n",
    ")\n",
    "\n",
    "grid_search.fit(X_train_nl, y_train_nl)\n",
    "best_model = grid_search.best_estimator_\n",
    "print(\"Best parameters:\", grid_search.best_params_)\n",
    "\n",
    "# Evaluate best model\n",
    "y_pred_best = best_model.predict(X_test_nl)\n",
    "evaluate_model(\"Tuned RF (No scored_by)\", y_test_nl, y_pred_best)"
   ]
  },
  {
   "cell_type": "markdown",
   "id": "cb7c1f73",
   "metadata": {},
   "source": [
    "---\n",
    "## 9. Cross-validation with the best model\n",
    "\n",
    "Cross-validation AFTER tuning and WITHOUT 'scored_by' feature.\n",
    "This avoids data leakage and uses the best tuned model (best_model).\n",
    "\n",
    "Improvement steps taken:\n",
    "- Use cross-validation with `KFold(shuffle=True)`\n",
    "- Re-tuning with model complexity constraints\n",
    "- Re-validate GridSearch results with cross-validation"
   ]
  },
  {
   "cell_type": "code",
   "execution_count": null,
   "id": "540a7a5e",
   "metadata": {},
   "outputs": [],
   "source": [
    "# 9. Cross-validation after tuning the best model\n",
    "\n",
    "# Generate KFold cross-validation\n",
    "cv = KFold(n_splits=5, shuffle=True, random_state=42)\n",
    "\n",
    "# Cross-validation on the best model\n",
    "cv_scores_best = cross_val_score(best_model, X_noleak, y, cv=cv, scoring=\"r2\")\n",
    "\n",
    "print(\"=== Cross-Validation After Tuning (Best Model) ===\")\n",
    "print(f\"Scores: {cv_scores_best}\")\n",
    "print(f\"Mean  : {cv_scores_best.mean():.4f}\")\n",
    "print(f\"Std   : {cv_scores_best.std():.4f}\")\n",
    "print(\"-\" * 30)"
   ]
  },
  {
   "cell_type": "markdown",
   "id": "c77ebe08",
   "metadata": {},
   "source": [
    "---\n",
    "### Cross-Validation: Correct and Clean Evaluation\n",
    "\n",
    "After tuning, we validate the best Random Forest model using 5-fold cross-validation with shuffling (`KFold`).\n",
    "\n",
    "- This avoids any data leakage or improper reuse of fitted data.\n",
    "- Evaluation is done on the full dataset with `scored_by` removed.\n",
    "- Final model is `best_model`, selected from `GridSearchCV`.\n",
    "\n",
    "**Result:**\n",
    "- Mean R² ≈ 0.9807\n",
    "- Std ≈ 0.0026\n",
    "\n",
    "The model generalizes very well and shows no signs of overfitting."
   ]
  },
  {
   "cell_type": "markdown",
   "id": "e347152b",
   "metadata": {},
   "source": [
    "---\n",
    "## 10. Save Best Model"
   ]
  },
  {
   "cell_type": "code",
   "execution_count": null,
   "id": "c2a2836b",
   "metadata": {},
   "outputs": [],
   "source": [
    "# For now i stil wan't to explore much more models\n",
    "# We still can try other models like XGBoost, LightGBM, or even deep learning models.\n",
    "# But for now, we will save the best model we have.\n",
    "\n",
    "joblib.dump(best_model, \"../models/best_random_forest_model.pkl\")"
   ]
  }
 ],
 "metadata": {
  "kernelspec": {
   "display_name": ".venv",
   "language": "python",
   "name": "python3"
  },
  "language_info": {
   "codemirror_mode": {
    "name": "ipython",
    "version": 3
   },
   "file_extension": ".py",
   "mimetype": "text/x-python",
   "name": "python",
   "nbconvert_exporter": "python",
   "pygments_lexer": "ipython3",
   "version": "3.12.10"
  }
 },
 "nbformat": 4,
 "nbformat_minor": 5
}
