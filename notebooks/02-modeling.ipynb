{
 "cells": [
  {
   "cell_type": "markdown",
   "id": "936f9d46",
   "metadata": {},
   "source": [
    "# 02. Predicting Anime Scores\n",
    "\n",
    "In this notebook, we will prepare features, split the data, train baseline regression models, and evaluate their performance.\n",
    "\n",
    "---\n",
    "\n",
    "## 1. Load Cleaned Dataset"
   ]
  },
  {
   "cell_type": "code",
   "execution_count": null,
   "id": "b8874f80",
   "metadata": {},
   "outputs": [],
   "source": [
    "import pandas as pd\n",
    "\n",
    "df = pd.read_csv(\"../data/processed/clean_anime_full.csv\")\n",
    "df.head()"
   ]
  },
  {
   "cell_type": "markdown",
   "id": "98b7559b",
   "metadata": {},
   "source": [
    "---\n",
    "\n",
    "## 2. Feature Engineering\n",
    "- Encode categorical features.\n",
    "- Drop unused or overly correlated columns."
   ]
  },
  {
   "cell_type": "markdown",
   "id": "0f6f0888",
   "metadata": {},
   "source": [
    "---\n",
    "\n",
    "## 3. Train-Test Split\n",
    "- Use 80:20 split for training and testing."
   ]
  },
  {
   "cell_type": "markdown",
   "id": "32fbcbe3",
   "metadata": {},
   "source": [
    "---\n",
    "\n",
    "## 4. Train Baseline Models\n",
    "- Linear Regression\n",
    "- Random Forest"
   ]
  },
  {
   "cell_type": "markdown",
   "id": "b14ba1df",
   "metadata": {},
   "source": [
    "---\n",
    "\n",
    "## 5. Evaluate Models\n",
    "- Use MAE, RMSE, R²"
   ]
  }
 ],
 "metadata": {
  "kernelspec": {
   "display_name": ".venv",
   "language": "python",
   "name": "python3"
  },
  "language_info": {
   "name": "python",
   "version": "3.12.10"
  }
 },
 "nbformat": 4,
 "nbformat_minor": 5
}
